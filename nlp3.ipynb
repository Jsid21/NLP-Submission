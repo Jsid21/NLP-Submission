{
  "nbformat": 4,
  "nbformat_minor": 0,
  "metadata": {
    "colab": {
      "provenance": []
    },
    "kernelspec": {
      "name": "python3",
      "display_name": "Python 3"
    },
    "language_info": {
      "name": "python"
    }
  },
  "cells": [
    {
      "cell_type": "code",
      "execution_count": null,
      "metadata": {
        "id": "5Yn0zSmJqJOr"
      },
      "outputs": [],
      "source": [
        "import re\n",
        "import nltk\n",
        "import pandas as pd\n",
        "from sklearn.feature_extraction.text import TfidfVectorizer\n",
        "from sklearn.preprocessing import LabelEncoder\n",
        "from nltk.corpus import stopwords\n",
        "from nltk.stem import WordNetLemmatizer"
      ]
    },
    {
      "cell_type": "code",
      "source": [
        "# Load English tokenizer from spaCy\n",
        "nlp = spacy.load('en_core_web_sm')"
      ],
      "metadata": {
        "id": "dFxVChZCtq6A"
      },
      "execution_count": null,
      "outputs": []
    },
    {
      "cell_type": "code",
      "source": [
        "# Ensure NLTK stopwords and WordNetLemmatizer are downloaded\n",
        "nltk.download('stopwords')\n",
        "nltk.download('wordnet')"
      ],
      "metadata": {
        "colab": {
          "base_uri": "https://localhost:8080/"
        },
        "id": "edQU55DyuF4f",
        "outputId": "caf8ea85-cdbb-4388-b5ec-75ca9d6a2ce6"
      },
      "execution_count": null,
      "outputs": [
        {
          "output_type": "stream",
          "name": "stderr",
          "text": [
            "[nltk_data] Downloading package stopwords to /root/nltk_data...\n",
            "[nltk_data]   Package stopwords is already up-to-date!\n",
            "[nltk_data] Downloading package wordnet to /root/nltk_data...\n"
          ]
        },
        {
          "output_type": "execute_result",
          "data": {
            "text/plain": [
              "True"
            ]
          },
          "metadata": {},
          "execution_count": 13
        }
      ]
    },
    {
      "cell_type": "code",
      "source": [
        "data = ['I love programming!', 'Python is amazing...', 'I enjoy solving problems.','i hate c#']\n",
        "labels = ['positive', 'positive', 'positive', 'negative']"
      ],
      "metadata": {
        "id": "2aI6sxLittdY"
      },
      "execution_count": null,
      "outputs": []
    },
    {
      "cell_type": "code",
      "source": [
        "# Initialize the lemmatizer\n",
        "lemmatizer = WordNetLemmatizer()"
      ],
      "metadata": {
        "id": "Tg6Aete1wO_p"
      },
      "execution_count": null,
      "outputs": []
    },
    {
      "cell_type": "code",
      "source": [
        "# Step 1: Text Cleaning\n",
        "def clean_text(text):\n",
        "    # Remove special characters, digits, and punctuation\n",
        "    text = re.sub(r'[^A-Za-z\\s]', '', text)\n",
        "    # Lowercase the text\n",
        "    text = text.lower()\n",
        "    # Remove extra spaces\n",
        "    text = re.sub(r'\\s+', ' ', text).strip()\n",
        "    return text\n",
        "\n",
        "data_cleaned = [clean_text(text) for text in data]"
      ],
      "metadata": {
        "id": "E63PsrYztwJ_"
      },
      "execution_count": null,
      "outputs": []
    },
    {
      "cell_type": "code",
      "source": [
        "# Step 2: Lemmatization using WordNetLemmatizer\n",
        "def lemmatize_text(text):\n",
        "    words = text.split()\n",
        "    lemmatized_words = [lemmatizer.lemmatize(word) for word in words]\n",
        "    return \" \".join(lemmatized_words)\n",
        "\n",
        "data_lemmatized = [lemmatize_text(text) for text in data_cleaned]"
      ],
      "metadata": {
        "id": "jh3qNGUHt4NY"
      },
      "execution_count": null,
      "outputs": []
    },
    {
      "cell_type": "code",
      "source": [
        "# Step 3: Stop Words Removal\n",
        "stop_words = set(stopwords.words('english'))\n",
        "def remove_stop_words(text):\n",
        "    words = text.split()\n",
        "    words_filtered = [word for word in words if word not in stop_words]\n",
        "    return \" \".join(words_filtered)\n",
        "\n",
        "data_no_stopwords = [remove_stop_words(text) for text in data_lemmatized]"
      ],
      "metadata": {
        "id": "eHPbaEJ4t9oY"
      },
      "execution_count": null,
      "outputs": []
    },
    {
      "cell_type": "code",
      "source": [
        "# Step 4: Label Encoding\n",
        "label_encoder = LabelEncoder()\n",
        "\n",
        "\n",
        "labels_encoded = label_encoder.fit_transform(labels)"
      ],
      "metadata": {
        "id": "cLR34P9zuKg3"
      },
      "execution_count": null,
      "outputs": []
    },
    {
      "cell_type": "code",
      "source": [
        "# Step 5: TF-IDF Vectorization\n",
        "tfidf_vectorizer = TfidfVectorizer()\n",
        "tfidf_matrix = tfidf_vectorizer.fit_transform(data_no_stopwords)"
      ],
      "metadata": {
        "id": "-2PQbKJRuMoA"
      },
      "execution_count": null,
      "outputs": []
    },
    {
      "cell_type": "code",
      "source": [
        "# Output the results\n",
        "print(\"Cleaned and Lemmatized Text (no stopwords):\")\n",
        "print(data_no_stopwords)\n",
        "print()\n",
        "print(\"Encoded Labels:\")\n",
        "print(labels_encoded)\n",
        "print()\n",
        "print(\"TF-IDF Matrix:\")\n",
        "print(tfidf_matrix.toarray())"
      ],
      "metadata": {
        "colab": {
          "base_uri": "https://localhost:8080/"
        },
        "id": "hU3QqXJ6uOng",
        "outputId": "740421ec-a6cf-486b-9c46-1d7770ec204c"
      },
      "execution_count": null,
      "outputs": [
        {
          "output_type": "stream",
          "name": "stdout",
          "text": [
            "Cleaned and Lemmatized Text (no stopwords):\n",
            "['love programming', 'python amazing', 'enjoy solving problem', 'hate c']\n",
            "\n",
            "Encoded Labels:\n",
            "[1 1 1 0]\n",
            "\n",
            "TF-IDF Matrix:\n",
            "[[0.         0.         0.         0.70710678 0.         0.70710678\n",
            "  0.         0.        ]\n",
            " [0.70710678 0.         0.         0.         0.         0.\n",
            "  0.70710678 0.        ]\n",
            " [0.         0.57735027 0.         0.         0.57735027 0.\n",
            "  0.         0.57735027]\n",
            " [0.         0.         1.         0.         0.         0.\n",
            "  0.         0.        ]]\n"
          ]
        }
      ]
    }
  ]
}